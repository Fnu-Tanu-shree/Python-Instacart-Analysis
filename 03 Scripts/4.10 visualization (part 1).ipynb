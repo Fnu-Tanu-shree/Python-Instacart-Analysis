{
 "cells": [
  {
   "cell_type": "markdown",
   "id": "4a067f17-d18f-49bc-a2f1-05ca265d4513",
   "metadata": {},
   "source": [
    "# Exercise 4.10 (Part 1)"
   ]
  },
  {
   "cell_type": "markdown",
   "id": "53310974-1c2e-4ccd-8963-e7f081a708cd",
   "metadata": {},
   "source": [
    "## Table of content"
   ]
  },
  {
   "cell_type": "markdown",
   "id": "22a64fed-ae91-477b-beb6-8fa4713e3afb",
   "metadata": {},
   "source": [
    "1. Importing Libraries\n",
    "2. Defining path\n",
    "3. Importing Data set\n",
    "4. PII information in data\n",
    "5. Regional segmentation of data\n",
    "6. Defining Activity_flag, based on max orders by users\n",
    "7. Excluding customers with less than 5 orders\n",
    "8. Exporting the new data frame with Active users only."
   ]
  },
  {
   "cell_type": "markdown",
   "id": "519fdf58-0fab-458f-814a-a01f503d90fa",
   "metadata": {},
   "source": [
    "## Importing libraries "
   ]
  },
  {
   "cell_type": "code",
   "execution_count": 2,
   "id": "a53086b1-00ba-4d07-bb4e-cea40bda5786",
   "metadata": {},
   "outputs": [],
   "source": [
    "import pandas as pd\n",
    "import numpy as np\n",
    "import os\n",
    "import matplotlib.pyplot as plt\n",
    "import seaborn as sns\n",
    "import scipy"
   ]
  },
  {
   "cell_type": "code",
   "execution_count": 4,
   "id": "5b111bfe-61ef-4876-909c-f371e937592e",
   "metadata": {},
   "outputs": [],
   "source": [
    "# Defining path\n",
    "\n",
    "path = r'/Users/tanu/Desktop/Instacart Basket Analysis/02 Data'"
   ]
  },
  {
   "cell_type": "code",
   "execution_count": 6,
   "id": "7281dc65-7934-4f79-8fa1-f315ffcfa0c8",
   "metadata": {},
   "outputs": [],
   "source": [
    "# Importing Data frame\n",
    "\n",
    "df_merge = pd.read_pickle(os.path.join(path,'Prepared data','ords_prods_cstmr_merged.pkl'))"
   ]
  },
  {
   "cell_type": "code",
   "execution_count": 10,
   "id": "1130bfc9-5fc1-4f8c-9cf4-1992360fce02",
   "metadata": {},
   "outputs": [
    {
     "data": {
      "text/plain": [
       "(32404859, 32)"
      ]
     },
     "execution_count": 10,
     "metadata": {},
     "output_type": "execute_result"
    }
   ],
   "source": [
    "df_merge.shape"
   ]
  },
  {
   "cell_type": "code",
   "execution_count": 12,
   "id": "c380cea0-9ddd-44bc-b498-471fded43263",
   "metadata": {},
   "outputs": [
    {
     "data": {
      "text/html": [
       "<div>\n",
       "<style scoped>\n",
       "    .dataframe tbody tr th:only-of-type {\n",
       "        vertical-align: middle;\n",
       "    }\n",
       "\n",
       "    .dataframe tbody tr th {\n",
       "        vertical-align: top;\n",
       "    }\n",
       "\n",
       "    .dataframe thead th {\n",
       "        text-align: right;\n",
       "    }\n",
       "</style>\n",
       "<table border=\"1\" class=\"dataframe\">\n",
       "  <thead>\n",
       "    <tr style=\"text-align: right;\">\n",
       "      <th></th>\n",
       "      <th>order_id</th>\n",
       "      <th>user_id</th>\n",
       "      <th>order_number</th>\n",
       "      <th>order_day_of_the_week</th>\n",
       "      <th>order_hour_of_day</th>\n",
       "      <th>days_since_prior_order</th>\n",
       "      <th>product_id</th>\n",
       "      <th>add_to_cart_order</th>\n",
       "      <th>reordered</th>\n",
       "      <th>product_name</th>\n",
       "      <th>...</th>\n",
       "      <th>days_btwn_orders</th>\n",
       "      <th>order_frequency</th>\n",
       "      <th>First Name</th>\n",
       "      <th>Last Name</th>\n",
       "      <th>Gender</th>\n",
       "      <th>State</th>\n",
       "      <th>Age</th>\n",
       "      <th>No. of Dependants</th>\n",
       "      <th>Marital status</th>\n",
       "      <th>income</th>\n",
       "    </tr>\n",
       "  </thead>\n",
       "  <tbody>\n",
       "    <tr>\n",
       "      <th>0</th>\n",
       "      <td>2539329</td>\n",
       "      <td>1</td>\n",
       "      <td>1</td>\n",
       "      <td>2</td>\n",
       "      <td>8</td>\n",
       "      <td>7.0</td>\n",
       "      <td>196</td>\n",
       "      <td>1</td>\n",
       "      <td>0</td>\n",
       "      <td>Soda</td>\n",
       "      <td>...</td>\n",
       "      <td>20.0</td>\n",
       "      <td>Regular customer</td>\n",
       "      <td>Linda</td>\n",
       "      <td>Nguyen</td>\n",
       "      <td>Female</td>\n",
       "      <td>Alabama</td>\n",
       "      <td>31</td>\n",
       "      <td>3</td>\n",
       "      <td>married</td>\n",
       "      <td>40423</td>\n",
       "    </tr>\n",
       "    <tr>\n",
       "      <th>1</th>\n",
       "      <td>2539329</td>\n",
       "      <td>1</td>\n",
       "      <td>1</td>\n",
       "      <td>2</td>\n",
       "      <td>8</td>\n",
       "      <td>7.0</td>\n",
       "      <td>14084</td>\n",
       "      <td>2</td>\n",
       "      <td>0</td>\n",
       "      <td>Organic Unsweetened Vanilla Almond Milk</td>\n",
       "      <td>...</td>\n",
       "      <td>20.0</td>\n",
       "      <td>Regular customer</td>\n",
       "      <td>Linda</td>\n",
       "      <td>Nguyen</td>\n",
       "      <td>Female</td>\n",
       "      <td>Alabama</td>\n",
       "      <td>31</td>\n",
       "      <td>3</td>\n",
       "      <td>married</td>\n",
       "      <td>40423</td>\n",
       "    </tr>\n",
       "    <tr>\n",
       "      <th>2</th>\n",
       "      <td>2539329</td>\n",
       "      <td>1</td>\n",
       "      <td>1</td>\n",
       "      <td>2</td>\n",
       "      <td>8</td>\n",
       "      <td>7.0</td>\n",
       "      <td>12427</td>\n",
       "      <td>3</td>\n",
       "      <td>0</td>\n",
       "      <td>Original Beef Jerky</td>\n",
       "      <td>...</td>\n",
       "      <td>20.0</td>\n",
       "      <td>Regular customer</td>\n",
       "      <td>Linda</td>\n",
       "      <td>Nguyen</td>\n",
       "      <td>Female</td>\n",
       "      <td>Alabama</td>\n",
       "      <td>31</td>\n",
       "      <td>3</td>\n",
       "      <td>married</td>\n",
       "      <td>40423</td>\n",
       "    </tr>\n",
       "    <tr>\n",
       "      <th>3</th>\n",
       "      <td>2539329</td>\n",
       "      <td>1</td>\n",
       "      <td>1</td>\n",
       "      <td>2</td>\n",
       "      <td>8</td>\n",
       "      <td>7.0</td>\n",
       "      <td>26088</td>\n",
       "      <td>4</td>\n",
       "      <td>0</td>\n",
       "      <td>Aged White Cheddar Popcorn</td>\n",
       "      <td>...</td>\n",
       "      <td>20.0</td>\n",
       "      <td>Regular customer</td>\n",
       "      <td>Linda</td>\n",
       "      <td>Nguyen</td>\n",
       "      <td>Female</td>\n",
       "      <td>Alabama</td>\n",
       "      <td>31</td>\n",
       "      <td>3</td>\n",
       "      <td>married</td>\n",
       "      <td>40423</td>\n",
       "    </tr>\n",
       "    <tr>\n",
       "      <th>4</th>\n",
       "      <td>2539329</td>\n",
       "      <td>1</td>\n",
       "      <td>1</td>\n",
       "      <td>2</td>\n",
       "      <td>8</td>\n",
       "      <td>7.0</td>\n",
       "      <td>26405</td>\n",
       "      <td>5</td>\n",
       "      <td>0</td>\n",
       "      <td>XL Pick-A-Size Paper Towel Rolls</td>\n",
       "      <td>...</td>\n",
       "      <td>20.0</td>\n",
       "      <td>Regular customer</td>\n",
       "      <td>Linda</td>\n",
       "      <td>Nguyen</td>\n",
       "      <td>Female</td>\n",
       "      <td>Alabama</td>\n",
       "      <td>31</td>\n",
       "      <td>3</td>\n",
       "      <td>married</td>\n",
       "      <td>40423</td>\n",
       "    </tr>\n",
       "  </tbody>\n",
       "</table>\n",
       "<p>5 rows × 32 columns</p>\n",
       "</div>"
      ],
      "text/plain": [
       "   order_id  user_id  order_number  order_day_of_the_week  order_hour_of_day  \\\n",
       "0   2539329        1             1                      2                  8   \n",
       "1   2539329        1             1                      2                  8   \n",
       "2   2539329        1             1                      2                  8   \n",
       "3   2539329        1             1                      2                  8   \n",
       "4   2539329        1             1                      2                  8   \n",
       "\n",
       "   days_since_prior_order  product_id  add_to_cart_order  reordered  \\\n",
       "0                     7.0         196                  1          0   \n",
       "1                     7.0       14084                  2          0   \n",
       "2                     7.0       12427                  3          0   \n",
       "3                     7.0       26088                  4          0   \n",
       "4                     7.0       26405                  5          0   \n",
       "\n",
       "                              product_name  ...  days_btwn_orders  \\\n",
       "0                                     Soda  ...              20.0   \n",
       "1  Organic Unsweetened Vanilla Almond Milk  ...              20.0   \n",
       "2                      Original Beef Jerky  ...              20.0   \n",
       "3               Aged White Cheddar Popcorn  ...              20.0   \n",
       "4         XL Pick-A-Size Paper Towel Rolls  ...              20.0   \n",
       "\n",
       "    order_frequency  First Name Last Name  Gender    State Age  \\\n",
       "0  Regular customer       Linda    Nguyen  Female  Alabama  31   \n",
       "1  Regular customer       Linda    Nguyen  Female  Alabama  31   \n",
       "2  Regular customer       Linda    Nguyen  Female  Alabama  31   \n",
       "3  Regular customer       Linda    Nguyen  Female  Alabama  31   \n",
       "4  Regular customer       Linda    Nguyen  Female  Alabama  31   \n",
       "\n",
       "  No. of Dependants  Marital status income  \n",
       "0                 3         married  40423  \n",
       "1                 3         married  40423  \n",
       "2                 3         married  40423  \n",
       "3                 3         married  40423  \n",
       "4                 3         married  40423  \n",
       "\n",
       "[5 rows x 32 columns]"
      ]
     },
     "execution_count": 12,
     "metadata": {},
     "output_type": "execute_result"
    }
   ],
   "source": [
    "df_merge.head()"
   ]
  },
  {
   "cell_type": "code",
   "execution_count": 41,
   "id": "ba296f63-a28a-49d1-8639-9dd51fbc26c5",
   "metadata": {},
   "outputs": [
    {
     "data": {
      "text/plain": [
       "Index(['order_id', 'user_id', 'order_number', 'order_day_of_the_week',\n",
       "       'order_hour_of_day', 'days_since_prior_order', 'product_id',\n",
       "       'add_to_cart_order', 'reordered', 'product_name', 'aisle_id',\n",
       "       'department_id', 'prices', 'Match', 'price_range_loc', 'busiest_day',\n",
       "       'Busiest_days', 'Busiest_period_of_day', 'max_order', 'loyalty_flag',\n",
       "       'average_spending', 'spending_label', 'days_btwn_orders',\n",
       "       'order_frequency', 'First Name', 'Last Name', 'Gender', 'State', 'Age',\n",
       "       'No. of Dependants', 'Marital status', 'income', 'Region'],\n",
       "      dtype='object')"
      ]
     },
     "execution_count": 41,
     "metadata": {},
     "output_type": "execute_result"
    }
   ],
   "source": [
    "df_merge.columns"
   ]
  },
  {
   "cell_type": "markdown",
   "id": "0a3d9d50-711f-4972-b75a-deec234df1d8",
   "metadata": {},
   "source": [
    "## PII information in data"
   ]
  },
  {
   "cell_type": "markdown",
   "id": "204c2f9c-5a23-48b6-b2dd-539717939bfe",
   "metadata": {
    "jp-MarkdownHeadingCollapsed": true
   },
   "source": [
    "##### Observations: \n",
    "##### PII data: customers First Name & Last name\n",
    "##### Sensitive data : Age, Marital status, No. of dependants, Income"
   ]
  },
  {
   "cell_type": "markdown",
   "id": "74ba1142-0f70-44c2-921f-16ed86fd7850",
   "metadata": {},
   "source": [
    "## Create a regional segmentation of the data\n"
   ]
  },
  {
   "cell_type": "code",
   "execution_count": 34,
   "id": "6f227db1-367c-484e-ba94-43289378d97e",
   "metadata": {},
   "outputs": [],
   "source": [
    "Northeast = ['Maine','New Hampshire','Vermont','Massachusetts','Rhode Island','Connecticut','New York','Pennsylvania','New Jersey']\n",
    "Midwest = ['Wisconsin','Michigan','Illinois','Indiana','Ohio','North Dakota','South Dakota','Nebraska','Kansas','Minnesota','Iowa','Missouri']\n",
    "South = ['Delaware','Maryland','District of Columbia','Virginia','West Virginia','North Carolina','South Carolina','Georgia','Florida','Kentucky','Tennessee','Mississippi','Alabama','Oklahoma','Texas','Arkansas','Louisiana',]\n",
    "West = ['Idaho','Montana','Wyoming','Nevada','Utah','Colorado','Arizona','New Mexico','Alaska','Washington','Oregon','California','Hawaii']"
   ]
  },
  {
   "cell_type": "code",
   "execution_count": 36,
   "id": "220e44f3-3795-4766-a3b9-7fbdfb52318a",
   "metadata": {},
   "outputs": [],
   "source": [
    "df_merge.loc[df_merge['State'].isin(Northeast),'Region'] = 'Northeast'\n",
    "df_merge.loc[df_merge['State'].isin(Midwest),'Region'] = 'Midwest'\n",
    "df_merge.loc[df_merge['State'].isin(South),'Region'] = 'South'\n",
    "df_merge.loc[df_merge['State'].isin(West),'Region'] = 'West'"
   ]
  },
  {
   "cell_type": "code",
   "execution_count": 38,
   "id": "a73907ea-46be-4378-a688-6ca4da8fb6fe",
   "metadata": {},
   "outputs": [
    {
     "data": {
      "text/plain": [
       "Region\n",
       "South        10791885\n",
       "West          8292913\n",
       "Midwest       7597325\n",
       "Northeast     5722736\n",
       "Name: count, dtype: int64"
      ]
     },
     "execution_count": 38,
     "metadata": {},
     "output_type": "execute_result"
    }
   ],
   "source": [
    "df_merge['Region'].value_counts(dropna = False)"
   ]
  },
  {
   "cell_type": "markdown",
   "id": "123a6e71-fec7-4a34-a4d9-5b46df5f9bb4",
   "metadata": {},
   "source": [
    "all rows add up to 32404859 , mean all rows are called/divided in perfect region\n"
   ]
  },
  {
   "cell_type": "code",
   "execution_count": 43,
   "id": "cc97545e-42f5-4338-8be0-e6acb7779cec",
   "metadata": {},
   "outputs": [],
   "source": [
    "# Creating crosstab for 'region' & 'Spending_label'\n",
    "\n",
    "crosstab = pd.crosstab(df_merge['Region'],df_merge['spending_label'], dropna = False)"
   ]
  },
  {
   "cell_type": "code",
   "execution_count": 47,
   "id": "9dbdd5ce-65a9-499c-bb8c-28501eb57701",
   "metadata": {},
   "outputs": [],
   "source": [
    "# saving crosstab to clipboard\n",
    "\n",
    "crosstab.to_clipboard()"
   ]
  },
  {
   "cell_type": "code",
   "execution_count": 49,
   "id": "055c8886-615a-42ae-aaee-dc457457c6f2",
   "metadata": {},
   "outputs": [
    {
     "data": {
      "text/html": [
       "<div>\n",
       "<style scoped>\n",
       "    .dataframe tbody tr th:only-of-type {\n",
       "        vertical-align: middle;\n",
       "    }\n",
       "\n",
       "    .dataframe tbody tr th {\n",
       "        vertical-align: top;\n",
       "    }\n",
       "\n",
       "    .dataframe thead th {\n",
       "        text-align: right;\n",
       "    }\n",
       "</style>\n",
       "<table border=\"1\" class=\"dataframe\">\n",
       "  <thead>\n",
       "    <tr style=\"text-align: right;\">\n",
       "      <th>spending_label</th>\n",
       "      <th>High spender</th>\n",
       "      <th>Low spender</th>\n",
       "    </tr>\n",
       "    <tr>\n",
       "      <th>Region</th>\n",
       "      <th></th>\n",
       "      <th></th>\n",
       "    </tr>\n",
       "  </thead>\n",
       "  <tbody>\n",
       "    <tr>\n",
       "      <th>Midwest</th>\n",
       "      <td>29294</td>\n",
       "      <td>7568031</td>\n",
       "    </tr>\n",
       "    <tr>\n",
       "      <th>Northeast</th>\n",
       "      <td>18642</td>\n",
       "      <td>5704094</td>\n",
       "    </tr>\n",
       "    <tr>\n",
       "      <th>South</th>\n",
       "      <td>40739</td>\n",
       "      <td>10751146</td>\n",
       "    </tr>\n",
       "    <tr>\n",
       "      <th>West</th>\n",
       "      <td>31286</td>\n",
       "      <td>8261627</td>\n",
       "    </tr>\n",
       "  </tbody>\n",
       "</table>\n",
       "</div>"
      ],
      "text/plain": [
       "spending_label  High spender  Low spender\n",
       "Region                                   \n",
       "Midwest                29294      7568031\n",
       "Northeast              18642      5704094\n",
       "South                  40739     10751146\n",
       "West                   31286      8261627"
      ]
     },
     "execution_count": 49,
     "metadata": {},
     "output_type": "execute_result"
    }
   ],
   "source": [
    "crosstab"
   ]
  },
  {
   "cell_type": "code",
   "execution_count": 59,
   "id": "adcbdd6b-c1b8-442d-8b4e-0275d0055e15",
   "metadata": {},
   "outputs": [
    {
     "data": {
      "image/png": "[encoded data removed]",
      "text/plain": [
       "<Figure size 640x480 with 1 Axes>"
      ]
     },
     "metadata": {},
     "output_type": "display_data"
    }
   ],
   "source": [
    "clusterbar = sns.countplot(data = df_merge, x= 'Region', hue ='spending_label')"
   ]
  },
  {
   "cell_type": "markdown",
   "id": "c7079bb3-84d7-4e19-b27f-e717ead88454",
   "metadata": {},
   "source": [
    "#### Observation: \n",
    "Majority of the customers are low spender irrespective of the region.\n"
   ]
  },
  {
   "cell_type": "markdown",
   "id": "8e086ebe-f3ff-46f6-8b51-2a1dda4ac581",
   "metadata": {},
   "source": [
    "## Exclude cutsomers with less than 5 orders"
   ]
  },
  {
   "cell_type": "code",
   "execution_count": 63,
   "id": "0ebf53b1-e6ca-4792-9c29-4d014a86ca44",
   "metadata": {},
   "outputs": [
    {
     "data": {
      "text/plain": [
       "max_order\n",
       "99    1171333\n",
       "8      811843\n",
       "6      811396\n",
       "9      810213\n",
       "7      803979\n",
       "       ...   \n",
       "97      44949\n",
       "98      44587\n",
       "96      40453\n",
       "2           6\n",
       "1           5\n",
       "Name: count, Length: 99, dtype: int64"
      ]
     },
     "execution_count": 63,
     "metadata": {},
     "output_type": "execute_result"
    }
   ],
   "source": [
    "# Frequency of orders for different customer\n",
    "\n",
    "df_merge['max_order'].value_counts(dropna=False)"
   ]
  },
  {
   "cell_type": "code",
   "execution_count": 65,
   "id": "09f101b6-e2c2-4fe9-b4bc-a94c006c3bda",
   "metadata": {},
   "outputs": [],
   "source": [
    "# Defining 'activity_flag'\n",
    "\n",
    "df_merge.loc[df_merge['max_order'] <5, 'activity_flag'] ='Low activity'\n",
    "df_merge.loc[df_merge['max_order'] >= 5, 'activity_flag'] = 'normal activity'"
   ]
  },
  {
   "cell_type": "code",
   "execution_count": 69,
   "id": "f30bcb71-13b1-489f-bc3c-4d8cafb3dbad",
   "metadata": {},
   "outputs": [
    {
     "data": {
      "text/plain": [
       "activity_flag\n",
       "normal activity    30964564\n",
       "Low activity        1440295\n",
       "Name: count, dtype: int64"
      ]
     },
     "execution_count": 69,
     "metadata": {},
     "output_type": "execute_result"
    }
   ],
   "source": [
    "df_merge['activity_flag'].value_counts(dropna=False)"
   ]
  },
  {
   "cell_type": "code",
   "execution_count": 75,
   "id": "e90e2408-2e3b-48fb-8056-fa5e46954b87",
   "metadata": {},
   "outputs": [],
   "source": [
    "# Creating new dataframe without low activity customers\n",
    "\n",
    "df_active = df_merge[df_merge['activity_flag'] != 'Low activity']"
   ]
  },
  {
   "cell_type": "code",
   "execution_count": 77,
   "id": "9174243e-540c-4f0d-a143-6e8ba48edc1b",
   "metadata": {},
   "outputs": [
    {
     "data": {
      "text/plain": [
       "(30964564, 34)"
      ]
     },
     "execution_count": 77,
     "metadata": {},
     "output_type": "execute_result"
    }
   ],
   "source": [
    "df_active.shape"
   ]
  },
  {
   "cell_type": "code",
   "execution_count": 79,
   "id": "6890360c-b2a0-4ecb-b9e4-a86b90badaca",
   "metadata": {},
   "outputs": [
    {
     "data": {
      "text/plain": [
       "(32404859, 34)"
      ]
     },
     "execution_count": 79,
     "metadata": {},
     "output_type": "execute_result"
    }
   ],
   "source": [
    "df_merge.shape"
   ]
  },
  {
   "cell_type": "markdown",
   "id": "5087e2da-b55e-4423-8cbc-7265442a72be",
   "metadata": {},
   "source": [
    "##### Checking for acuracy of new data frame \n",
    "32404859-30964564 = 1440295 = low activity customer accounts"
   ]
  },
  {
   "cell_type": "markdown",
   "id": "0c8fd665-60b5-421b-8c93-9bd841b7b074",
   "metadata": {},
   "source": [
    "## Exporting the new data set with active user accounts only"
   ]
  },
  {
   "cell_type": "code",
   "execution_count": 82,
   "id": "aa82ec93-2a6c-46a7-a057-ebeebaf7f34a",
   "metadata": {},
   "outputs": [],
   "source": [
    "# Exporting the New Active customer dataframe\n",
    "\n",
    "df_active.to_pickle(os.path.join(path,'Prepared data','active_customer.pkl'))"
   ]
  }
 ],
 "metadata": {
  "kernelspec": {
   "display_name": "Python [conda env:base] *",
   "language": "python",
   "name": "conda-base-py"
  },
  "language_info": {
   "codemirror_mode": {
    "name": "ipython",
    "version": 3
   },
   "file_extension": ".py",
   "mimetype": "text/x-python",
   "name": "python",
   "nbconvert_exporter": "python",
   "pygments_lexer": "ipython3",
   "version": "3.12.7"
  }
 },
 "nbformat": 4,
 "nbformat_minor": 5
}
