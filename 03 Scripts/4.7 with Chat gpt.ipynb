{
 "cells": [
  {
   "cell_type": "markdown",
   "id": "1ee5108f-7f7c-4046-8b76-6686b87a3fc9",
   "metadata": {},
   "source": [
    "# Importing Libraries "
   ]
  },
  {
   "cell_type": "code",
   "execution_count": 3,
   "id": "0b7023a5-6f2a-4fe5-9996-90e6f6f4b530",
   "metadata": {},
   "outputs": [],
   "source": [
    "import pandas as pd\n",
    "import numpy as np\n",
    "import os"
   ]
  },
  {
   "cell_type": "code",
   "execution_count": 5,
   "id": "798dd1a8-2bf6-4b24-8b01-0c5732eb2328",
   "metadata": {},
   "outputs": [],
   "source": [
    "# defining path\n",
    "\n",
    "path = r'/Users/tanu/Desktop/Instacart Basket Analysis/02 Data'"
   ]
  },
  {
   "cell_type": "code",
   "execution_count": 7,
   "id": "e6563fb9-face-46d1-b690-1bca80a67be3",
   "metadata": {},
   "outputs": [],
   "source": [
    "# Importing data set\n",
    "\n",
    "ords_prods_merge = pd.read_pickle(os.path.join(path,'Prepared data','ords_prods_merge_new.pkl'))"
   ]
  },
  {
   "cell_type": "code",
   "execution_count": 9,
   "id": "3ca5e489-edc2-459d-8bd4-628080504ec1",
   "metadata": {},
   "outputs": [],
   "source": [
    "# creating subset\n",
    "\n",
    "df = ords_prods_merge[:1000000]"
   ]
  },
  {
   "cell_type": "code",
   "execution_count": 11,
   "id": "7ee095dc-c8c6-4d20-9107-460e49a4eb48",
   "metadata": {},
   "outputs": [
    {
     "data": {
      "text/plain": [
       "(1000000, 14)"
      ]
     },
     "execution_count": 11,
     "metadata": {},
     "output_type": "execute_result"
    }
   ],
   "source": [
    "df.shape"
   ]
  },
  {
   "cell_type": "code",
   "execution_count": 13,
   "id": "f40ad6d3-95d2-405b-a9c9-718f761d5e76",
   "metadata": {},
   "outputs": [],
   "source": [
    "# defining a function\n",
    "\n",
    "def price_label(row):\n",
    "\n",
    "  if row['prices'] <= 5:\n",
    "    return 'Low-range product'\n",
    "  elif (row['prices'] > 5) and (row['prices'] <= 15):\n",
    "    return 'Mid-range product'\n",
    "  elif row['prices'] > 15:\n",
    "    return 'High range'\n",
    "  else: return 'Not enough data'"
   ]
  },
  {
   "cell_type": "code",
   "execution_count": 15,
   "id": "b764c2a4-8827-4a0a-bfba-3a09edd636bd",
   "metadata": {},
   "outputs": [
    {
     "name": "stderr",
     "output_type": "stream",
     "text": [
      "/var/folders/tn/7968l_p11wbcjd89795bwnb40000gn/T/ipykernel_35026/1717284528.py:3: SettingWithCopyWarning: \n",
      "A value is trying to be set on a copy of a slice from a DataFrame.\n",
      "Try using .loc[row_indexer,col_indexer] = value instead\n",
      "\n",
      "See the caveats in the documentation: https://pandas.pydata.org/pandas-docs/stable/user_guide/indexing.html#returning-a-view-versus-a-copy\n",
      "  df['price_range'] = df.apply(price_label, axis = 1)\n"
     ]
    }
   ],
   "source": [
    "# Applying a function\n",
    "\n",
    "df['price_range'] = df.apply(price_label, axis = 1)"
   ]
  },
  {
   "cell_type": "code",
   "execution_count": 21,
   "id": "49f91412-1143-43af-a2db-edd11aebb2c5",
   "metadata": {},
   "outputs": [
    {
     "data": {
      "text/plain": [
       "price_range\n",
       "Mid-range product    673340\n",
       "Low-range product    314392\n",
       "High range            12268\n",
       "Name: count, dtype: int64"
      ]
     },
     "execution_count": 21,
     "metadata": {},
     "output_type": "execute_result"
    }
   ],
   "source": [
    "# Checking values of new function\n",
    "\n",
    "df['price_range'].value_counts(dropna = False)"
   ]
  },
  {
   "cell_type": "code",
   "execution_count": 23,
   "id": "afded244-be55-4b45-90e8-d0bd61ffb0ba",
   "metadata": {},
   "outputs": [
    {
     "name": "stderr",
     "output_type": "stream",
     "text": [
      "/var/folders/tn/7968l_p11wbcjd89795bwnb40000gn/T/ipykernel_35026/1797144534.py:3: SettingWithCopyWarning: \n",
      "A value is trying to be set on a copy of a slice from a DataFrame.\n",
      "Try using .loc[row_indexer,col_indexer] = value instead\n",
      "\n",
      "See the caveats in the documentation: https://pandas.pydata.org/pandas-docs/stable/user_guide/indexing.html#returning-a-view-versus-a-copy\n",
      "  df.loc[df['prices'] > 15, 'price_range_loc'] = 'High range product'\n"
     ]
    }
   ],
   "source": [
    "# Using the predefined loc function\n",
    "\n",
    "df.loc[df['prices'] > 15, 'price_range_loc'] = 'High range product'"
   ]
  },
  {
   "cell_type": "code",
   "execution_count": 33,
   "id": "a621319f-ff7f-4231-8d04-0a17569db8a9",
   "metadata": {},
   "outputs": [],
   "source": [
    "df.loc[(df['prices'] <= 15) & (df['prices'] > 5), 'price_range_loc'] = 'Mid range product'"
   ]
  },
  {
   "cell_type": "code",
   "execution_count": 35,
   "id": "0b63d1f9-25b2-4c22-aecb-fdf84da4174c",
   "metadata": {},
   "outputs": [],
   "source": [
    "df.loc[df['prices'] <= 5, 'price_range_loc'] = 'low range product'"
   ]
  },
  {
   "cell_type": "code",
   "execution_count": 37,
   "id": "e32d9179-8a23-4a1c-869d-aaef581968ea",
   "metadata": {},
   "outputs": [
    {
     "data": {
      "text/plain": [
       "price_range_loc\n",
       "Mid range product     673340\n",
       "low range product     314392\n",
       "High range product     12268\n",
       "Name: count, dtype: int64"
      ]
     },
     "execution_count": 37,
     "metadata": {},
     "output_type": "execute_result"
    }
   ],
   "source": [
    "df['price_range_loc'].value_counts(dropna = False)"
   ]
  },
  {
   "cell_type": "code",
   "execution_count": 39,
   "id": "e94a70f7-1048-4aee-a42b-d6ea5b3f39df",
   "metadata": {},
   "outputs": [],
   "source": [
    "# Applying loc function to whole data "
   ]
  },
  {
   "cell_type": "code",
   "execution_count": 41,
   "id": "ac793cb5-d2a8-4a33-a58a-5fb4feeb476a",
   "metadata": {},
   "outputs": [],
   "source": [
    "ords_prods_merge.loc[ords_prods_merge['prices'] > 15, 'price_range_loc'] = 'High range product'"
   ]
  },
  {
   "cell_type": "code",
   "execution_count": 43,
   "id": "381ecf01-d950-41d0-b451-4770f6ab2e25",
   "metadata": {},
   "outputs": [],
   "source": [
    "ords_prods_merge.loc[(ords_prods_merge['prices'] <= 15) & (df['prices'] > 5), 'price_range_loc'] = 'Mid range product'"
   ]
  },
  {
   "cell_type": "code",
   "execution_count": 45,
   "id": "5b96f63d-a31f-43d3-ba8c-98a9734d6d21",
   "metadata": {},
   "outputs": [],
   "source": [
    "ords_prods_merge.loc[ords_prods_merge['prices'] <= 5, 'price_range_loc'] = 'low range product'"
   ]
  },
  {
   "cell_type": "code",
   "execution_count": 47,
   "id": "0d562887-34c7-44d2-9723-ab1e6b760c37",
   "metadata": {},
   "outputs": [
    {
     "data": {
      "text/plain": [
       "price_range_loc\n",
       "NaN                   21192647\n",
       "low range product     10126321\n",
       "Mid range product       673340\n",
       "High range product      412551\n",
       "Name: count, dtype: int64"
      ]
     },
     "execution_count": 47,
     "metadata": {},
     "output_type": "execute_result"
    }
   ],
   "source": [
    "ords_prods_merge['price_range_loc'].value_counts(dropna = False)"
   ]
  },
  {
   "cell_type": "code",
   "execution_count": 49,
   "id": "e40fadf2-3a1d-4fb1-a222-44818aef9986",
   "metadata": {},
   "outputs": [
    {
     "data": {
      "text/plain": [
       "order_id                         0\n",
       "user_id                          0\n",
       "order_number                     0\n",
       "order_day_of_the_week            0\n",
       "order_hour_of_day                0\n",
       "days_since_prior_order           0\n",
       "product_id                       0\n",
       "add_to_cart_order                0\n",
       "reordered                        0\n",
       "product_name                     0\n",
       "aisle_id                         0\n",
       "department_id                    0\n",
       "prices                           0\n",
       "Match                            0\n",
       "price_range_loc           21192647\n",
       "dtype: int64"
      ]
     },
     "execution_count": 49,
     "metadata": {},
     "output_type": "execute_result"
    }
   ],
   "source": [
    "ords_prods_merge.isnull().sum()"
   ]
  },
  {
   "cell_type": "code",
   "execution_count": 53,
   "id": "ad13287b-5a3b-4e47-aad3-996f7c569975",
   "metadata": {},
   "outputs": [
    {
     "data": {
      "text/plain": [
       "order_id                     int64\n",
       "user_id                      int64\n",
       "order_number                 int64\n",
       "order_day_of_the_week        int64\n",
       "order_hour_of_day            int64\n",
       "days_since_prior_order     float64\n",
       "product_id                   int64\n",
       "add_to_cart_order            int64\n",
       "reordered                    int64\n",
       "product_name                object\n",
       "aisle_id                     int64\n",
       "department_id                int64\n",
       "prices                     float64\n",
       "Match                     category\n",
       "price_range_loc             object\n",
       "dtype: object"
      ]
     },
     "execution_count": 53,
     "metadata": {},
     "output_type": "execute_result"
    }
   ],
   "source": [
    "ords_prods_merge.dtypes"
   ]
  },
  {
   "cell_type": "code",
   "execution_count": 97,
   "id": "94b3311a-c840-4ab9-b961-e245441f3f5c",
   "metadata": {},
   "outputs": [
    {
     "data": {
      "text/html": [
       "<div>\n",
       "<style scoped>\n",
       "    .dataframe tbody tr th:only-of-type {\n",
       "        vertical-align: middle;\n",
       "    }\n",
       "\n",
       "    .dataframe tbody tr th {\n",
       "        vertical-align: top;\n",
       "    }\n",
       "\n",
       "    .dataframe thead th {\n",
       "        text-align: right;\n",
       "    }\n",
       "</style>\n",
       "<table border=\"1\" class=\"dataframe\">\n",
       "  <thead>\n",
       "    <tr style=\"text-align: right;\">\n",
       "      <th></th>\n",
       "      <th>order_id</th>\n",
       "      <th>user_id</th>\n",
       "      <th>order_number</th>\n",
       "      <th>order_day_of_the_week</th>\n",
       "      <th>order_hour_of_day</th>\n",
       "      <th>days_since_prior_order</th>\n",
       "      <th>product_id</th>\n",
       "      <th>add_to_cart_order</th>\n",
       "      <th>reordered</th>\n",
       "      <th>product_name</th>\n",
       "      <th>aisle_id</th>\n",
       "      <th>department_id</th>\n",
       "      <th>prices</th>\n",
       "      <th>Match</th>\n",
       "      <th>price_range_loc</th>\n",
       "    </tr>\n",
       "  </thead>\n",
       "  <tbody>\n",
       "    <tr>\n",
       "      <th>0</th>\n",
       "      <td>2539329</td>\n",
       "      <td>1</td>\n",
       "      <td>1</td>\n",
       "      <td>2</td>\n",
       "      <td>8</td>\n",
       "      <td>7.0</td>\n",
       "      <td>196</td>\n",
       "      <td>1</td>\n",
       "      <td>0</td>\n",
       "      <td>Soda</td>\n",
       "      <td>77</td>\n",
       "      <td>7</td>\n",
       "      <td>9.0</td>\n",
       "      <td>both</td>\n",
       "      <td>Mid range product</td>\n",
       "    </tr>\n",
       "    <tr>\n",
       "      <th>1</th>\n",
       "      <td>2539329</td>\n",
       "      <td>1</td>\n",
       "      <td>1</td>\n",
       "      <td>2</td>\n",
       "      <td>8</td>\n",
       "      <td>7.0</td>\n",
       "      <td>14084</td>\n",
       "      <td>2</td>\n",
       "      <td>0</td>\n",
       "      <td>Organic Unsweetened Vanilla Almond Milk</td>\n",
       "      <td>91</td>\n",
       "      <td>16</td>\n",
       "      <td>12.5</td>\n",
       "      <td>both</td>\n",
       "      <td>Mid range product</td>\n",
       "    </tr>\n",
       "    <tr>\n",
       "      <th>2</th>\n",
       "      <td>2539329</td>\n",
       "      <td>1</td>\n",
       "      <td>1</td>\n",
       "      <td>2</td>\n",
       "      <td>8</td>\n",
       "      <td>7.0</td>\n",
       "      <td>12427</td>\n",
       "      <td>3</td>\n",
       "      <td>0</td>\n",
       "      <td>Original Beef Jerky</td>\n",
       "      <td>23</td>\n",
       "      <td>19</td>\n",
       "      <td>4.4</td>\n",
       "      <td>both</td>\n",
       "      <td>low range product</td>\n",
       "    </tr>\n",
       "    <tr>\n",
       "      <th>3</th>\n",
       "      <td>2539329</td>\n",
       "      <td>1</td>\n",
       "      <td>1</td>\n",
       "      <td>2</td>\n",
       "      <td>8</td>\n",
       "      <td>7.0</td>\n",
       "      <td>26088</td>\n",
       "      <td>4</td>\n",
       "      <td>0</td>\n",
       "      <td>Aged White Cheddar Popcorn</td>\n",
       "      <td>23</td>\n",
       "      <td>19</td>\n",
       "      <td>4.7</td>\n",
       "      <td>both</td>\n",
       "      <td>low range product</td>\n",
       "    </tr>\n",
       "    <tr>\n",
       "      <th>4</th>\n",
       "      <td>2539329</td>\n",
       "      <td>1</td>\n",
       "      <td>1</td>\n",
       "      <td>2</td>\n",
       "      <td>8</td>\n",
       "      <td>7.0</td>\n",
       "      <td>26405</td>\n",
       "      <td>5</td>\n",
       "      <td>0</td>\n",
       "      <td>XL Pick-A-Size Paper Towel Rolls</td>\n",
       "      <td>54</td>\n",
       "      <td>17</td>\n",
       "      <td>1.0</td>\n",
       "      <td>both</td>\n",
       "      <td>low range product</td>\n",
       "    </tr>\n",
       "    <tr>\n",
       "      <th>...</th>\n",
       "      <td>...</td>\n",
       "      <td>...</td>\n",
       "      <td>...</td>\n",
       "      <td>...</td>\n",
       "      <td>...</td>\n",
       "      <td>...</td>\n",
       "      <td>...</td>\n",
       "      <td>...</td>\n",
       "      <td>...</td>\n",
       "      <td>...</td>\n",
       "      <td>...</td>\n",
       "      <td>...</td>\n",
       "      <td>...</td>\n",
       "      <td>...</td>\n",
       "      <td>...</td>\n",
       "    </tr>\n",
       "    <tr>\n",
       "      <th>1000995</th>\n",
       "      <td>36501</td>\n",
       "      <td>6485</td>\n",
       "      <td>5</td>\n",
       "      <td>6</td>\n",
       "      <td>11</td>\n",
       "      <td>8.0</td>\n",
       "      <td>29448</td>\n",
       "      <td>17</td>\n",
       "      <td>1</td>\n",
       "      <td>No Salt Added Solid Light Tuna In Water</td>\n",
       "      <td>95</td>\n",
       "      <td>15</td>\n",
       "      <td>14.7</td>\n",
       "      <td>both</td>\n",
       "      <td>NaN</td>\n",
       "    </tr>\n",
       "    <tr>\n",
       "      <th>1000996</th>\n",
       "      <td>36501</td>\n",
       "      <td>6485</td>\n",
       "      <td>5</td>\n",
       "      <td>6</td>\n",
       "      <td>11</td>\n",
       "      <td>8.0</td>\n",
       "      <td>8479</td>\n",
       "      <td>18</td>\n",
       "      <td>1</td>\n",
       "      <td>Original Black Box Tablewater Cracker</td>\n",
       "      <td>78</td>\n",
       "      <td>19</td>\n",
       "      <td>3.5</td>\n",
       "      <td>both</td>\n",
       "      <td>low range product</td>\n",
       "    </tr>\n",
       "    <tr>\n",
       "      <th>1000997</th>\n",
       "      <td>36501</td>\n",
       "      <td>6485</td>\n",
       "      <td>5</td>\n",
       "      <td>6</td>\n",
       "      <td>11</td>\n",
       "      <td>8.0</td>\n",
       "      <td>45364</td>\n",
       "      <td>19</td>\n",
       "      <td>0</td>\n",
       "      <td>California Veggie Burgers - 4 CT</td>\n",
       "      <td>42</td>\n",
       "      <td>1</td>\n",
       "      <td>6.8</td>\n",
       "      <td>both</td>\n",
       "      <td>NaN</td>\n",
       "    </tr>\n",
       "    <tr>\n",
       "      <th>1000998</th>\n",
       "      <td>3263106</td>\n",
       "      <td>6485</td>\n",
       "      <td>6</td>\n",
       "      <td>6</td>\n",
       "      <td>10</td>\n",
       "      <td>7.0</td>\n",
       "      <td>12187</td>\n",
       "      <td>1</td>\n",
       "      <td>1</td>\n",
       "      <td>Ground Coffee Classico Medium Roast</td>\n",
       "      <td>26</td>\n",
       "      <td>7</td>\n",
       "      <td>4.6</td>\n",
       "      <td>both</td>\n",
       "      <td>low range product</td>\n",
       "    </tr>\n",
       "    <tr>\n",
       "      <th>1000999</th>\n",
       "      <td>3263106</td>\n",
       "      <td>6485</td>\n",
       "      <td>6</td>\n",
       "      <td>6</td>\n",
       "      <td>10</td>\n",
       "      <td>7.0</td>\n",
       "      <td>31683</td>\n",
       "      <td>2</td>\n",
       "      <td>1</td>\n",
       "      <td>Original No Pulp 100% Florida Orange Juice</td>\n",
       "      <td>31</td>\n",
       "      <td>7</td>\n",
       "      <td>1.8</td>\n",
       "      <td>both</td>\n",
       "      <td>low range product</td>\n",
       "    </tr>\n",
       "  </tbody>\n",
       "</table>\n",
       "<p>1001000 rows × 15 columns</p>\n",
       "</div>"
      ],
      "text/plain": [
       "         order_id  user_id  order_number  order_day_of_the_week  \\\n",
       "0         2539329        1             1                      2   \n",
       "1         2539329        1             1                      2   \n",
       "2         2539329        1             1                      2   \n",
       "3         2539329        1             1                      2   \n",
       "4         2539329        1             1                      2   \n",
       "...           ...      ...           ...                    ...   \n",
       "1000995     36501     6485             5                      6   \n",
       "1000996     36501     6485             5                      6   \n",
       "1000997     36501     6485             5                      6   \n",
       "1000998   3263106     6485             6                      6   \n",
       "1000999   3263106     6485             6                      6   \n",
       "\n",
       "         order_hour_of_day  days_since_prior_order  product_id  \\\n",
       "0                        8                     7.0         196   \n",
       "1                        8                     7.0       14084   \n",
       "2                        8                     7.0       12427   \n",
       "3                        8                     7.0       26088   \n",
       "4                        8                     7.0       26405   \n",
       "...                    ...                     ...         ...   \n",
       "1000995                 11                     8.0       29448   \n",
       "1000996                 11                     8.0        8479   \n",
       "1000997                 11                     8.0       45364   \n",
       "1000998                 10                     7.0       12187   \n",
       "1000999                 10                     7.0       31683   \n",
       "\n",
       "         add_to_cart_order  reordered  \\\n",
       "0                        1          0   \n",
       "1                        2          0   \n",
       "2                        3          0   \n",
       "3                        4          0   \n",
       "4                        5          0   \n",
       "...                    ...        ...   \n",
       "1000995                 17          1   \n",
       "1000996                 18          1   \n",
       "1000997                 19          0   \n",
       "1000998                  1          1   \n",
       "1000999                  2          1   \n",
       "\n",
       "                                       product_name  aisle_id  department_id  \\\n",
       "0                                              Soda        77              7   \n",
       "1           Organic Unsweetened Vanilla Almond Milk        91             16   \n",
       "2                               Original Beef Jerky        23             19   \n",
       "3                        Aged White Cheddar Popcorn        23             19   \n",
       "4                  XL Pick-A-Size Paper Towel Rolls        54             17   \n",
       "...                                             ...       ...            ...   \n",
       "1000995     No Salt Added Solid Light Tuna In Water        95             15   \n",
       "1000996       Original Black Box Tablewater Cracker        78             19   \n",
       "1000997            California Veggie Burgers - 4 CT        42              1   \n",
       "1000998         Ground Coffee Classico Medium Roast        26              7   \n",
       "1000999  Original No Pulp 100% Florida Orange Juice        31              7   \n",
       "\n",
       "         prices Match    price_range_loc  \n",
       "0           9.0  both  Mid range product  \n",
       "1          12.5  both  Mid range product  \n",
       "2           4.4  both  low range product  \n",
       "3           4.7  both  low range product  \n",
       "4           1.0  both  low range product  \n",
       "...         ...   ...                ...  \n",
       "1000995    14.7  both                NaN  \n",
       "1000996     3.5  both  low range product  \n",
       "1000997     6.8  both                NaN  \n",
       "1000998     4.6  both  low range product  \n",
       "1000999     1.8  both  low range product  \n",
       "\n",
       "[1001000 rows x 15 columns]"
      ]
     },
     "execution_count": 97,
     "metadata": {},
     "output_type": "execute_result"
    }
   ],
   "source": [
    "ords_prods_merge.head(1001000)"
   ]
  },
  {
   "cell_type": "code",
   "execution_count": 59,
   "id": "a23a6c75-4a3e-4654-ba2f-35557aad8954",
   "metadata": {},
   "outputs": [
    {
     "data": {
      "text/plain": [
       "Match\n",
       "both          32404859\n",
       "left_only            0\n",
       "right_only           0\n",
       "Name: count, dtype: int64"
      ]
     },
     "execution_count": 59,
     "metadata": {},
     "output_type": "execute_result"
    }
   ],
   "source": [
    "ords_prods_merge['Match'].value_counts()"
   ]
  },
  {
   "cell_type": "code",
   "execution_count": 73,
   "id": "3cac0187-913c-453c-b4c1-077c7ec52d77",
   "metadata": {},
   "outputs": [],
   "source": [
    "df_nan = ords_prods_merge.loc[ords_prods_merge['product_id'] == 45570]"
   ]
  },
  {
   "cell_type": "code",
   "execution_count": 75,
   "id": "ce1e3278-9fbb-4146-a653-4628a7142d8a",
   "metadata": {},
   "outputs": [
    {
     "data": {
      "text/plain": [
       "(6812, 15)"
      ]
     },
     "execution_count": 75,
     "metadata": {},
     "output_type": "execute_result"
    }
   ],
   "source": [
    "df_nan.shape"
   ]
  },
  {
   "cell_type": "code",
   "execution_count": 87,
   "id": "e7c13560-4860-4674-91e8-39b2fc66e56e",
   "metadata": {},
   "outputs": [
    {
     "data": {
      "text/html": [
       "<div>\n",
       "<style scoped>\n",
       "    .dataframe tbody tr th:only-of-type {\n",
       "        vertical-align: middle;\n",
       "    }\n",
       "\n",
       "    .dataframe tbody tr th {\n",
       "        vertical-align: top;\n",
       "    }\n",
       "\n",
       "    .dataframe thead th {\n",
       "        text-align: right;\n",
       "    }\n",
       "</style>\n",
       "<table border=\"1\" class=\"dataframe\">\n",
       "  <thead>\n",
       "    <tr style=\"text-align: right;\">\n",
       "      <th></th>\n",
       "      <th>order_id</th>\n",
       "      <th>user_id</th>\n",
       "      <th>order_number</th>\n",
       "      <th>order_day_of_the_week</th>\n",
       "      <th>order_hour_of_day</th>\n",
       "      <th>days_since_prior_order</th>\n",
       "      <th>product_id</th>\n",
       "      <th>add_to_cart_order</th>\n",
       "      <th>reordered</th>\n",
       "      <th>product_name</th>\n",
       "      <th>aisle_id</th>\n",
       "      <th>department_id</th>\n",
       "      <th>prices</th>\n",
       "      <th>Match</th>\n",
       "      <th>price_range_loc</th>\n",
       "    </tr>\n",
       "  </thead>\n",
       "  <tbody>\n",
       "    <tr>\n",
       "      <th>10140</th>\n",
       "      <td>1913204</td>\n",
       "      <td>79</td>\n",
       "      <td>1</td>\n",
       "      <td>0</td>\n",
       "      <td>12</td>\n",
       "      <td>7.0</td>\n",
       "      <td>45570</td>\n",
       "      <td>10</td>\n",
       "      <td>0</td>\n",
       "      <td>Organic Greek Plain Nonfat Yogurt</td>\n",
       "      <td>120</td>\n",
       "      <td>16</td>\n",
       "      <td>9.4</td>\n",
       "      <td>both</td>\n",
       "      <td>Mid range product</td>\n",
       "    </tr>\n",
       "    <tr>\n",
       "      <th>10150</th>\n",
       "      <td>3189274</td>\n",
       "      <td>79</td>\n",
       "      <td>2</td>\n",
       "      <td>0</td>\n",
       "      <td>14</td>\n",
       "      <td>7.0</td>\n",
       "      <td>45570</td>\n",
       "      <td>8</td>\n",
       "      <td>1</td>\n",
       "      <td>Organic Greek Plain Nonfat Yogurt</td>\n",
       "      <td>120</td>\n",
       "      <td>16</td>\n",
       "      <td>9.4</td>\n",
       "      <td>both</td>\n",
       "      <td>Mid range product</td>\n",
       "    </tr>\n",
       "    <tr>\n",
       "      <th>10170</th>\n",
       "      <td>2246974</td>\n",
       "      <td>79</td>\n",
       "      <td>4</td>\n",
       "      <td>0</td>\n",
       "      <td>16</td>\n",
       "      <td>13.0</td>\n",
       "      <td>45570</td>\n",
       "      <td>10</td>\n",
       "      <td>1</td>\n",
       "      <td>Organic Greek Plain Nonfat Yogurt</td>\n",
       "      <td>120</td>\n",
       "      <td>16</td>\n",
       "      <td>9.4</td>\n",
       "      <td>both</td>\n",
       "      <td>Mid range product</td>\n",
       "    </tr>\n",
       "    <tr>\n",
       "      <th>10184</th>\n",
       "      <td>1390523</td>\n",
       "      <td>79</td>\n",
       "      <td>5</td>\n",
       "      <td>0</td>\n",
       "      <td>2</td>\n",
       "      <td>21.0</td>\n",
       "      <td>45570</td>\n",
       "      <td>7</td>\n",
       "      <td>1</td>\n",
       "      <td>Organic Greek Plain Nonfat Yogurt</td>\n",
       "      <td>120</td>\n",
       "      <td>16</td>\n",
       "      <td>9.4</td>\n",
       "      <td>both</td>\n",
       "      <td>Mid range product</td>\n",
       "    </tr>\n",
       "    <tr>\n",
       "      <th>10206</th>\n",
       "      <td>2726708</td>\n",
       "      <td>79</td>\n",
       "      <td>6</td>\n",
       "      <td>1</td>\n",
       "      <td>19</td>\n",
       "      <td>30.0</td>\n",
       "      <td>45570</td>\n",
       "      <td>3</td>\n",
       "      <td>1</td>\n",
       "      <td>Organic Greek Plain Nonfat Yogurt</td>\n",
       "      <td>120</td>\n",
       "      <td>16</td>\n",
       "      <td>9.4</td>\n",
       "      <td>both</td>\n",
       "      <td>Mid range product</td>\n",
       "    </tr>\n",
       "    <tr>\n",
       "      <th>...</th>\n",
       "      <td>...</td>\n",
       "      <td>...</td>\n",
       "      <td>...</td>\n",
       "      <td>...</td>\n",
       "      <td>...</td>\n",
       "      <td>...</td>\n",
       "      <td>...</td>\n",
       "      <td>...</td>\n",
       "      <td>...</td>\n",
       "      <td>...</td>\n",
       "      <td>...</td>\n",
       "      <td>...</td>\n",
       "      <td>...</td>\n",
       "      <td>...</td>\n",
       "      <td>...</td>\n",
       "    </tr>\n",
       "    <tr>\n",
       "      <th>32398343</th>\n",
       "      <td>341493</td>\n",
       "      <td>206165</td>\n",
       "      <td>24</td>\n",
       "      <td>6</td>\n",
       "      <td>19</td>\n",
       "      <td>6.0</td>\n",
       "      <td>45570</td>\n",
       "      <td>14</td>\n",
       "      <td>0</td>\n",
       "      <td>Organic Greek Plain Nonfat Yogurt</td>\n",
       "      <td>120</td>\n",
       "      <td>16</td>\n",
       "      <td>9.4</td>\n",
       "      <td>both</td>\n",
       "      <td>NaN</td>\n",
       "    </tr>\n",
       "    <tr>\n",
       "      <th>32398385</th>\n",
       "      <td>1538507</td>\n",
       "      <td>206165</td>\n",
       "      <td>25</td>\n",
       "      <td>6</td>\n",
       "      <td>19</td>\n",
       "      <td>0.0</td>\n",
       "      <td>45570</td>\n",
       "      <td>23</td>\n",
       "      <td>1</td>\n",
       "      <td>Organic Greek Plain Nonfat Yogurt</td>\n",
       "      <td>120</td>\n",
       "      <td>16</td>\n",
       "      <td>9.4</td>\n",
       "      <td>both</td>\n",
       "      <td>NaN</td>\n",
       "    </tr>\n",
       "    <tr>\n",
       "      <th>32399410</th>\n",
       "      <td>1480017</td>\n",
       "      <td>206174</td>\n",
       "      <td>44</td>\n",
       "      <td>0</td>\n",
       "      <td>18</td>\n",
       "      <td>3.0</td>\n",
       "      <td>45570</td>\n",
       "      <td>2</td>\n",
       "      <td>0</td>\n",
       "      <td>Organic Greek Plain Nonfat Yogurt</td>\n",
       "      <td>120</td>\n",
       "      <td>16</td>\n",
       "      <td>9.4</td>\n",
       "      <td>both</td>\n",
       "      <td>NaN</td>\n",
       "    </tr>\n",
       "    <tr>\n",
       "      <th>32399474</th>\n",
       "      <td>2642385</td>\n",
       "      <td>206174</td>\n",
       "      <td>48</td>\n",
       "      <td>2</td>\n",
       "      <td>22</td>\n",
       "      <td>2.0</td>\n",
       "      <td>45570</td>\n",
       "      <td>19</td>\n",
       "      <td>1</td>\n",
       "      <td>Organic Greek Plain Nonfat Yogurt</td>\n",
       "      <td>120</td>\n",
       "      <td>16</td>\n",
       "      <td>9.4</td>\n",
       "      <td>both</td>\n",
       "      <td>NaN</td>\n",
       "    </tr>\n",
       "    <tr>\n",
       "      <th>32399511</th>\n",
       "      <td>1385465</td>\n",
       "      <td>206174</td>\n",
       "      <td>52</td>\n",
       "      <td>1</td>\n",
       "      <td>9</td>\n",
       "      <td>3.0</td>\n",
       "      <td>45570</td>\n",
       "      <td>7</td>\n",
       "      <td>1</td>\n",
       "      <td>Organic Greek Plain Nonfat Yogurt</td>\n",
       "      <td>120</td>\n",
       "      <td>16</td>\n",
       "      <td>9.4</td>\n",
       "      <td>both</td>\n",
       "      <td>NaN</td>\n",
       "    </tr>\n",
       "  </tbody>\n",
       "</table>\n",
       "<p>6812 rows × 15 columns</p>\n",
       "</div>"
      ],
      "text/plain": [
       "          order_id  user_id  order_number  order_day_of_the_week  \\\n",
       "10140      1913204       79             1                      0   \n",
       "10150      3189274       79             2                      0   \n",
       "10170      2246974       79             4                      0   \n",
       "10184      1390523       79             5                      0   \n",
       "10206      2726708       79             6                      1   \n",
       "...            ...      ...           ...                    ...   \n",
       "32398343    341493   206165            24                      6   \n",
       "32398385   1538507   206165            25                      6   \n",
       "32399410   1480017   206174            44                      0   \n",
       "32399474   2642385   206174            48                      2   \n",
       "32399511   1385465   206174            52                      1   \n",
       "\n",
       "          order_hour_of_day  days_since_prior_order  product_id  \\\n",
       "10140                    12                     7.0       45570   \n",
       "10150                    14                     7.0       45570   \n",
       "10170                    16                    13.0       45570   \n",
       "10184                     2                    21.0       45570   \n",
       "10206                    19                    30.0       45570   \n",
       "...                     ...                     ...         ...   \n",
       "32398343                 19                     6.0       45570   \n",
       "32398385                 19                     0.0       45570   \n",
       "32399410                 18                     3.0       45570   \n",
       "32399474                 22                     2.0       45570   \n",
       "32399511                  9                     3.0       45570   \n",
       "\n",
       "          add_to_cart_order  reordered                       product_name  \\\n",
       "10140                    10          0  Organic Greek Plain Nonfat Yogurt   \n",
       "10150                     8          1  Organic Greek Plain Nonfat Yogurt   \n",
       "10170                    10          1  Organic Greek Plain Nonfat Yogurt   \n",
       "10184                     7          1  Organic Greek Plain Nonfat Yogurt   \n",
       "10206                     3          1  Organic Greek Plain Nonfat Yogurt   \n",
       "...                     ...        ...                                ...   \n",
       "32398343                 14          0  Organic Greek Plain Nonfat Yogurt   \n",
       "32398385                 23          1  Organic Greek Plain Nonfat Yogurt   \n",
       "32399410                  2          0  Organic Greek Plain Nonfat Yogurt   \n",
       "32399474                 19          1  Organic Greek Plain Nonfat Yogurt   \n",
       "32399511                  7          1  Organic Greek Plain Nonfat Yogurt   \n",
       "\n",
       "          aisle_id  department_id  prices Match    price_range_loc  \n",
       "10140          120             16     9.4  both  Mid range product  \n",
       "10150          120             16     9.4  both  Mid range product  \n",
       "10170          120             16     9.4  both  Mid range product  \n",
       "10184          120             16     9.4  both  Mid range product  \n",
       "10206          120             16     9.4  both  Mid range product  \n",
       "...            ...            ...     ...   ...                ...  \n",
       "32398343       120             16     9.4  both                NaN  \n",
       "32398385       120             16     9.4  both                NaN  \n",
       "32399410       120             16     9.4  both                NaN  \n",
       "32399474       120             16     9.4  both                NaN  \n",
       "32399511       120             16     9.4  both                NaN  \n",
       "\n",
       "[6812 rows x 15 columns]"
      ]
     },
     "execution_count": 87,
     "metadata": {},
     "output_type": "execute_result"
    }
   ],
   "source": [
    "df_nan"
   ]
  },
  {
   "cell_type": "code",
   "execution_count": 93,
   "id": "5dc3509b-a4a4-4cbe-b4be-ae9bbe36ebd1",
   "metadata": {},
   "outputs": [],
   "source": [
    "df_nan.to_csv(os.path.join(path,'Prepared data','NaN_issue.csv'))"
   ]
  },
  {
   "cell_type": "code",
   "execution_count": 99,
   "id": "e70beb75-8dbd-443e-85f0-510780d41dd6",
   "metadata": {},
   "outputs": [],
   "source": [
    "df_nan_2 = ords_prods_merge.loc[ords_prods_merge['prices'] == 14.7]"
   ]
  },
  {
   "cell_type": "code",
   "execution_count": 101,
   "id": "f776c7de-f545-4139-bb48-29c454b3033e",
   "metadata": {},
   "outputs": [
    {
     "data": {
      "text/plain": [
       "(279291, 15)"
      ]
     },
     "execution_count": 101,
     "metadata": {},
     "output_type": "execute_result"
    }
   ],
   "source": [
    "df_nan_2.shape"
   ]
  },
  {
   "cell_type": "code",
   "execution_count": 103,
   "id": "34b43052-38ac-4dcf-b2c7-9dd98d029500",
   "metadata": {},
   "outputs": [
    {
     "data": {
      "text/html": [
       "<div>\n",
       "<style scoped>\n",
       "    .dataframe tbody tr th:only-of-type {\n",
       "        vertical-align: middle;\n",
       "    }\n",
       "\n",
       "    .dataframe tbody tr th {\n",
       "        vertical-align: top;\n",
       "    }\n",
       "\n",
       "    .dataframe thead th {\n",
       "        text-align: right;\n",
       "    }\n",
       "</style>\n",
       "<table border=\"1\" class=\"dataframe\">\n",
       "  <thead>\n",
       "    <tr style=\"text-align: right;\">\n",
       "      <th></th>\n",
       "      <th>order_id</th>\n",
       "      <th>user_id</th>\n",
       "      <th>order_number</th>\n",
       "      <th>order_day_of_the_week</th>\n",
       "      <th>order_hour_of_day</th>\n",
       "      <th>days_since_prior_order</th>\n",
       "      <th>product_id</th>\n",
       "      <th>add_to_cart_order</th>\n",
       "      <th>reordered</th>\n",
       "      <th>product_name</th>\n",
       "      <th>aisle_id</th>\n",
       "      <th>department_id</th>\n",
       "      <th>prices</th>\n",
       "      <th>Match</th>\n",
       "      <th>price_range_loc</th>\n",
       "    </tr>\n",
       "  </thead>\n",
       "  <tbody>\n",
       "    <tr>\n",
       "      <th>589</th>\n",
       "      <td>2984707</td>\n",
       "      <td>7</td>\n",
       "      <td>18</td>\n",
       "      <td>0</td>\n",
       "      <td>9</td>\n",
       "      <td>7.0</td>\n",
       "      <td>26209</td>\n",
       "      <td>3</td>\n",
       "      <td>0</td>\n",
       "      <td>Limes</td>\n",
       "      <td>24</td>\n",
       "      <td>4</td>\n",
       "      <td>14.7</td>\n",
       "      <td>both</td>\n",
       "      <td>Mid range product</td>\n",
       "    </tr>\n",
       "    <tr>\n",
       "      <th>809</th>\n",
       "      <td>2115522</td>\n",
       "      <td>10</td>\n",
       "      <td>3</td>\n",
       "      <td>3</td>\n",
       "      <td>19</td>\n",
       "      <td>12.0</td>\n",
       "      <td>26209</td>\n",
       "      <td>17</td>\n",
       "      <td>0</td>\n",
       "      <td>Limes</td>\n",
       "      <td>24</td>\n",
       "      <td>4</td>\n",
       "      <td>14.7</td>\n",
       "      <td>both</td>\n",
       "      <td>Mid range product</td>\n",
       "    </tr>\n",
       "    <tr>\n",
       "      <th>935</th>\n",
       "      <td>1611810</td>\n",
       "      <td>11</td>\n",
       "      <td>4</td>\n",
       "      <td>5</td>\n",
       "      <td>13</td>\n",
       "      <td>30.0</td>\n",
       "      <td>26209</td>\n",
       "      <td>10</td>\n",
       "      <td>0</td>\n",
       "      <td>Limes</td>\n",
       "      <td>24</td>\n",
       "      <td>4</td>\n",
       "      <td>14.7</td>\n",
       "      <td>both</td>\n",
       "      <td>Mid range product</td>\n",
       "    </tr>\n",
       "    <tr>\n",
       "      <th>1227</th>\n",
       "      <td>2505309</td>\n",
       "      <td>14</td>\n",
       "      <td>7</td>\n",
       "      <td>5</td>\n",
       "      <td>10</td>\n",
       "      <td>30.0</td>\n",
       "      <td>26209</td>\n",
       "      <td>3</td>\n",
       "      <td>0</td>\n",
       "      <td>Limes</td>\n",
       "      <td>24</td>\n",
       "      <td>4</td>\n",
       "      <td>14.7</td>\n",
       "      <td>both</td>\n",
       "      <td>Mid range product</td>\n",
       "    </tr>\n",
       "    <tr>\n",
       "      <th>1484</th>\n",
       "      <td>2000615</td>\n",
       "      <td>16</td>\n",
       "      <td>6</td>\n",
       "      <td>0</td>\n",
       "      <td>14</td>\n",
       "      <td>26.0</td>\n",
       "      <td>48283</td>\n",
       "      <td>10</td>\n",
       "      <td>0</td>\n",
       "      <td>Premium  Vanilla Mochi Ice Cream</td>\n",
       "      <td>37</td>\n",
       "      <td>1</td>\n",
       "      <td>14.7</td>\n",
       "      <td>both</td>\n",
       "      <td>Mid range product</td>\n",
       "    </tr>\n",
       "    <tr>\n",
       "      <th>...</th>\n",
       "      <td>...</td>\n",
       "      <td>...</td>\n",
       "      <td>...</td>\n",
       "      <td>...</td>\n",
       "      <td>...</td>\n",
       "      <td>...</td>\n",
       "      <td>...</td>\n",
       "      <td>...</td>\n",
       "      <td>...</td>\n",
       "      <td>...</td>\n",
       "      <td>...</td>\n",
       "      <td>...</td>\n",
       "      <td>...</td>\n",
       "      <td>...</td>\n",
       "      <td>...</td>\n",
       "    </tr>\n",
       "    <tr>\n",
       "      <th>32403369</th>\n",
       "      <td>395144</td>\n",
       "      <td>206203</td>\n",
       "      <td>2</td>\n",
       "      <td>0</td>\n",
       "      <td>18</td>\n",
       "      <td>30.0</td>\n",
       "      <td>26209</td>\n",
       "      <td>8</td>\n",
       "      <td>1</td>\n",
       "      <td>Limes</td>\n",
       "      <td>24</td>\n",
       "      <td>4</td>\n",
       "      <td>14.7</td>\n",
       "      <td>both</td>\n",
       "      <td>NaN</td>\n",
       "    </tr>\n",
       "    <tr>\n",
       "      <th>32403528</th>\n",
       "      <td>969311</td>\n",
       "      <td>206205</td>\n",
       "      <td>1</td>\n",
       "      <td>4</td>\n",
       "      <td>12</td>\n",
       "      <td>7.0</td>\n",
       "      <td>49628</td>\n",
       "      <td>16</td>\n",
       "      <td>0</td>\n",
       "      <td>Yoghurt Blueberry</td>\n",
       "      <td>120</td>\n",
       "      <td>16</td>\n",
       "      <td>14.7</td>\n",
       "      <td>both</td>\n",
       "      <td>NaN</td>\n",
       "    </tr>\n",
       "    <tr>\n",
       "      <th>32403774</th>\n",
       "      <td>2960815</td>\n",
       "      <td>206206</td>\n",
       "      <td>53</td>\n",
       "      <td>2</td>\n",
       "      <td>18</td>\n",
       "      <td>9.0</td>\n",
       "      <td>26209</td>\n",
       "      <td>9</td>\n",
       "      <td>0</td>\n",
       "      <td>Limes</td>\n",
       "      <td>24</td>\n",
       "      <td>4</td>\n",
       "      <td>14.7</td>\n",
       "      <td>both</td>\n",
       "      <td>NaN</td>\n",
       "    </tr>\n",
       "    <tr>\n",
       "      <th>32404496</th>\n",
       "      <td>2254244</td>\n",
       "      <td>206208</td>\n",
       "      <td>33</td>\n",
       "      <td>6</td>\n",
       "      <td>13</td>\n",
       "      <td>7.0</td>\n",
       "      <td>26209</td>\n",
       "      <td>5</td>\n",
       "      <td>0</td>\n",
       "      <td>Limes</td>\n",
       "      <td>24</td>\n",
       "      <td>4</td>\n",
       "      <td>14.7</td>\n",
       "      <td>both</td>\n",
       "      <td>NaN</td>\n",
       "    </tr>\n",
       "    <tr>\n",
       "      <th>32404837</th>\n",
       "      <td>626363</td>\n",
       "      <td>206209</td>\n",
       "      <td>12</td>\n",
       "      <td>1</td>\n",
       "      <td>12</td>\n",
       "      <td>18.0</td>\n",
       "      <td>26209</td>\n",
       "      <td>8</td>\n",
       "      <td>0</td>\n",
       "      <td>Limes</td>\n",
       "      <td>24</td>\n",
       "      <td>4</td>\n",
       "      <td>14.7</td>\n",
       "      <td>both</td>\n",
       "      <td>NaN</td>\n",
       "    </tr>\n",
       "  </tbody>\n",
       "</table>\n",
       "<p>279291 rows × 15 columns</p>\n",
       "</div>"
      ],
      "text/plain": [
       "          order_id  user_id  order_number  order_day_of_the_week  \\\n",
       "589        2984707        7            18                      0   \n",
       "809        2115522       10             3                      3   \n",
       "935        1611810       11             4                      5   \n",
       "1227       2505309       14             7                      5   \n",
       "1484       2000615       16             6                      0   \n",
       "...            ...      ...           ...                    ...   \n",
       "32403369    395144   206203             2                      0   \n",
       "32403528    969311   206205             1                      4   \n",
       "32403774   2960815   206206            53                      2   \n",
       "32404496   2254244   206208            33                      6   \n",
       "32404837    626363   206209            12                      1   \n",
       "\n",
       "          order_hour_of_day  days_since_prior_order  product_id  \\\n",
       "589                       9                     7.0       26209   \n",
       "809                      19                    12.0       26209   \n",
       "935                      13                    30.0       26209   \n",
       "1227                     10                    30.0       26209   \n",
       "1484                     14                    26.0       48283   \n",
       "...                     ...                     ...         ...   \n",
       "32403369                 18                    30.0       26209   \n",
       "32403528                 12                     7.0       49628   \n",
       "32403774                 18                     9.0       26209   \n",
       "32404496                 13                     7.0       26209   \n",
       "32404837                 12                    18.0       26209   \n",
       "\n",
       "          add_to_cart_order  reordered                      product_name  \\\n",
       "589                       3          0                             Limes   \n",
       "809                      17          0                             Limes   \n",
       "935                      10          0                             Limes   \n",
       "1227                      3          0                             Limes   \n",
       "1484                     10          0  Premium  Vanilla Mochi Ice Cream   \n",
       "...                     ...        ...                               ...   \n",
       "32403369                  8          1                             Limes   \n",
       "32403528                 16          0                 Yoghurt Blueberry   \n",
       "32403774                  9          0                             Limes   \n",
       "32404496                  5          0                             Limes   \n",
       "32404837                  8          0                             Limes   \n",
       "\n",
       "          aisle_id  department_id  prices Match    price_range_loc  \n",
       "589             24              4    14.7  both  Mid range product  \n",
       "809             24              4    14.7  both  Mid range product  \n",
       "935             24              4    14.7  both  Mid range product  \n",
       "1227            24              4    14.7  both  Mid range product  \n",
       "1484            37              1    14.7  both  Mid range product  \n",
       "...            ...            ...     ...   ...                ...  \n",
       "32403369        24              4    14.7  both                NaN  \n",
       "32403528       120             16    14.7  both                NaN  \n",
       "32403774        24              4    14.7  both                NaN  \n",
       "32404496        24              4    14.7  both                NaN  \n",
       "32404837        24              4    14.7  both                NaN  \n",
       "\n",
       "[279291 rows x 15 columns]"
      ]
     },
     "execution_count": 103,
     "metadata": {},
     "output_type": "execute_result"
    }
   ],
   "source": [
    "df_nan_2"
   ]
  },
  {
   "cell_type": "code",
   "execution_count": 107,
   "id": "5bf092ea-0386-4d88-8c89-0b5050599014",
   "metadata": {},
   "outputs": [
    {
     "name": "stdout",
     "output_type": "stream",
     "text": [
      "price_range_loc\n"
     ]
    }
   ],
   "source": [
    "for col in df_nan.columns.tolist():\n",
    "  weird = (df_nan[[col]].map(type) != df_nan[[col]].iloc[0].map(type)).any(axis = 1)\n",
    "  if len (df_nan[weird]) > 0:\n",
    "    print (col)"
   ]
  },
  {
   "cell_type": "code",
   "execution_count": 109,
   "id": "b0fc808d-ea12-4443-9c11-436766fef878",
   "metadata": {},
   "outputs": [
    {
     "name": "stdout",
     "output_type": "stream",
     "text": [
      "price_range_loc\n",
      "<class 'float'>    6642\n",
      "<class 'str'>       170\n",
      "Name: count, dtype: int64\n"
     ]
    }
   ],
   "source": [
    "print(df_nan['price_range_loc'].apply(type).value_counts())"
   ]
  },
  {
   "cell_type": "code",
   "execution_count": 111,
   "id": "1e6e20cd-5cd0-4008-aeb0-e7807158524c",
   "metadata": {},
   "outputs": [
    {
     "name": "stdout",
     "output_type": "stream",
     "text": [
      "float64\n"
     ]
    }
   ],
   "source": [
    "print(ords_prods_merge['prices'].dtype)"
   ]
  },
  {
   "cell_type": "code",
   "execution_count": 113,
   "id": "5fa0e9eb-8e41-4249-9cf7-deb67ebd5bf6",
   "metadata": {},
   "outputs": [
    {
     "data": {
      "text/plain": [
       "21192647"
      ]
     },
     "execution_count": 113,
     "metadata": {},
     "output_type": "execute_result"
    }
   ],
   "source": [
    "ords_prods_merge['price_range_loc'].isna().sum()"
   ]
  },
  {
   "cell_type": "code",
   "execution_count": 115,
   "id": "00df782b-fb4a-48c6-b6f4-60f9f42e7553",
   "metadata": {},
   "outputs": [
    {
     "data": {
      "text/plain": [
       "array([ 7.  , 14.  ,  7.9 , 10.5 , 13.4 ,  8.6 ,  6.8 ,  6.  ,  5.3 ,\n",
       "       11.7 ,  7.5 , 12.3 ,  9.9 , 14.7 , 12.  , 10.3 ,  9.1 ,  7.1 ,\n",
       "        9.7 ,  9.4 , 12.9 ,  7.6 , 13.7 , 10.7 , 14.8 , 12.5 , 14.2 ,\n",
       "       10.2 ,  5.5 , 11.3 , 13.6 ,  5.7 ,  6.3 , 10.  , 13.5 , 11.8 ,\n",
       "       11.2 , 14.9 , 10.6 ,  6.2 ,  6.5 ,  8.5 , 12.2 ,  6.7 ,  9.6 ,\n",
       "       12.7 ,  6.4 , 10.4 ,  8.8 ,  5.4 , 13.3 , 13.8 , 14.5 , 11.  ,\n",
       "        6.9 , 10.8 , 11.4 , 14.3 ,  5.1 ,  5.9 ,  8.3 ,  8.1 ,  7.7 ,\n",
       "        7.8 ,  7.2 ,  8.4 ,  5.2 , 13.  ,  8.2 ,  5.6 , 12.6 , 11.6 ,\n",
       "       13.1 ,  7.3 , 11.1 , 12.8 , 11.5 , 12.4 ,  8.7 ,  9.5 , 10.9 ,\n",
       "        5.8 , 13.2 ,  9.8 , 14.1 ,  9.3 , 10.1 , 14.4 ,  6.1 , 15.  ,\n",
       "        8.9 , 14.6 , 13.9 ,  8.  ,  7.4 ,  6.6 , 12.1 , 11.9 ,  9.  ,\n",
       "        9.2 ,  9.99])"
      ]
     },
     "execution_count": 115,
     "metadata": {},
     "output_type": "execute_result"
    }
   ],
   "source": [
    "ords_prods_merge[ords_prods_merge['price_range_loc'].isna()]['prices'].unique()"
   ]
  },
  {
   "cell_type": "code",
   "execution_count": 119,
   "id": "1b0051aa-7bd9-4065-8c54-a328d1742d98",
   "metadata": {},
   "outputs": [],
   "source": [
    "ords_prods_merge.loc[ords_prods_merge['prices'].isna(), 'price_range_loc'] = 'Unknown'"
   ]
  },
  {
   "cell_type": "code",
   "execution_count": 121,
   "id": "d4afc292-0c7c-4504-8887-cae041903d3c",
   "metadata": {},
   "outputs": [
    {
     "data": {
      "text/plain": [
       "price_range_loc\n",
       "NaN                   21192647\n",
       "low range product     10126321\n",
       "Mid range product       673340\n",
       "High range product      412551\n",
       "Name: count, dtype: int64"
      ]
     },
     "execution_count": 121,
     "metadata": {},
     "output_type": "execute_result"
    }
   ],
   "source": [
    "ords_prods_merge['price_range_loc'].value_counts(dropna=False)"
   ]
  },
  {
   "cell_type": "code",
   "execution_count": 123,
   "id": "225f7054-05a2-4119-ac8d-8b8ff2444f0a",
   "metadata": {},
   "outputs": [],
   "source": [
    "ords_prods_merge['prices'] = ords_prods_merge['prices'].round(2)"
   ]
  },
  {
   "cell_type": "code",
   "execution_count": 127,
   "id": "9a5d91e1-2085-4550-aaba-b70e59a4a0b5",
   "metadata": {},
   "outputs": [],
   "source": [
    "ords_prods_merge.loc[ords_prods_merge['prices'] > 15, 'price_range_loc'] = 'High-range product'"
   ]
  },
  {
   "cell_type": "code",
   "execution_count": 129,
   "id": "ce77251f-e844-4970-bc2d-f19a00e5e628",
   "metadata": {},
   "outputs": [],
   "source": [
    "ords_prods_merge.loc[(ords_prods_merge['prices'] <= 15) & (ords_prods_merge['prices'] > 5), 'price_range_loc'] = 'Mid-range product'"
   ]
  },
  {
   "cell_type": "code",
   "execution_count": 131,
   "id": "fa45f41a-c549-4491-9c9b-3f92d058658a",
   "metadata": {},
   "outputs": [],
   "source": [
    "ords_prods_merge.loc[ords_prods_merge['prices'] <= 5, 'price_range_loc'] = 'Low-range product'"
   ]
  },
  {
   "cell_type": "code",
   "execution_count": 133,
   "id": "ff499f1f-0dcb-4e7e-8b0a-00d1b6aa0b3e",
   "metadata": {},
   "outputs": [
    {
     "data": {
      "text/plain": [
       "price_range_loc\n",
       "Mid-range product     21865987\n",
       "Low-range product     10126321\n",
       "High-range product      412551\n",
       "Name: count, dtype: int64"
      ]
     },
     "execution_count": 133,
     "metadata": {},
     "output_type": "execute_result"
    }
   ],
   "source": [
    "ords_prods_merge['price_range_loc'].value_counts(dropna=False)"
   ]
  },
  {
   "cell_type": "code",
   "execution_count": null,
   "id": "0f5ad4ec-db62-4c7e-8a14-96994b7c47e7",
   "metadata": {},
   "outputs": [],
   "source": []
  }
 ],
 "metadata": {
  "kernelspec": {
   "display_name": "Python [conda env:base] *",
   "language": "python",
   "name": "conda-base-py"
  },
  "language_info": {
   "codemirror_mode": {
    "name": "ipython",
    "version": 3
   },
   "file_extension": ".py",
   "mimetype": "text/x-python",
   "name": "python",
   "nbconvert_exporter": "python",
   "pygments_lexer": "ipython3",
   "version": "3.12.7"
  }
 },
 "nbformat": 4,
 "nbformat_minor": 5
}
